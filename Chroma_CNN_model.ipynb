{
 "cells": [
  {
   "cell_type": "code",
   "execution_count": 1,
   "id": "a04b278a",
   "metadata": {},
   "outputs": [
    {
     "name": "stderr",
     "output_type": "stream",
     "text": [
      "Using TensorFlow backend.\n",
      "C:\\Users\\Ravindra Singh\\anaconda3\\lib\\site-packages\\tensorflow\\python\\framework\\dtypes.py:526: FutureWarning: Passing (type, 1) or '1type' as a synonym of type is deprecated; in a future version of numpy, it will be understood as (type, (1,)) / '(1,)type'.\n",
      "  _np_qint8 = np.dtype([(\"qint8\", np.int8, 1)])\n",
      "C:\\Users\\Ravindra Singh\\anaconda3\\lib\\site-packages\\tensorflow\\python\\framework\\dtypes.py:527: FutureWarning: Passing (type, 1) or '1type' as a synonym of type is deprecated; in a future version of numpy, it will be understood as (type, (1,)) / '(1,)type'.\n",
      "  _np_quint8 = np.dtype([(\"quint8\", np.uint8, 1)])\n",
      "C:\\Users\\Ravindra Singh\\anaconda3\\lib\\site-packages\\tensorflow\\python\\framework\\dtypes.py:528: FutureWarning: Passing (type, 1) or '1type' as a synonym of type is deprecated; in a future version of numpy, it will be understood as (type, (1,)) / '(1,)type'.\n",
      "  _np_qint16 = np.dtype([(\"qint16\", np.int16, 1)])\n",
      "C:\\Users\\Ravindra Singh\\anaconda3\\lib\\site-packages\\tensorflow\\python\\framework\\dtypes.py:529: FutureWarning: Passing (type, 1) or '1type' as a synonym of type is deprecated; in a future version of numpy, it will be understood as (type, (1,)) / '(1,)type'.\n",
      "  _np_quint16 = np.dtype([(\"quint16\", np.uint16, 1)])\n",
      "C:\\Users\\Ravindra Singh\\anaconda3\\lib\\site-packages\\tensorflow\\python\\framework\\dtypes.py:530: FutureWarning: Passing (type, 1) or '1type' as a synonym of type is deprecated; in a future version of numpy, it will be understood as (type, (1,)) / '(1,)type'.\n",
      "  _np_qint32 = np.dtype([(\"qint32\", np.int32, 1)])\n",
      "C:\\Users\\Ravindra Singh\\anaconda3\\lib\\site-packages\\tensorflow\\python\\framework\\dtypes.py:535: FutureWarning: Passing (type, 1) or '1type' as a synonym of type is deprecated; in a future version of numpy, it will be understood as (type, (1,)) / '(1,)type'.\n",
      "  np_resource = np.dtype([(\"resource\", np.ubyte, 1)])\n"
     ]
    }
   ],
   "source": [
    "import keras\n",
    "from keras.models import Sequential\n",
    "from keras.layers import Dense, Dropout, Flatten, Conv2D, MaxPooling2D, GRU\n",
    "from keras.utils import to_categorical\n",
    "from keras.callbacks import ModelCheckpoint\n",
    "from keras.utils import plot_model\n",
    "import numpy as np\n",
    "import librosa\n",
    "import matplotlib.pyplot as plt\n",
    "import os\n",
    "# from keras.layers import LeakyReLU3\n",
    "from tqdm import tqdm\n",
    "from sklearn.model_selection import train_test_split\n",
    "from keras.constraints import non_neg, max_norm"
   ]
  },
  {
   "cell_type": "code",
   "execution_count": 2,
   "id": "32cc46c0",
   "metadata": {},
   "outputs": [],
   "source": [
    "DATA_PATH = 'npy-files_chroma'\n",
    "\n",
    "def get_labels(path=DATA_PATH):\n",
    "    labels = os.listdir(path)\n",
    "    #print(labels)\n",
    "    labels_indices = np.arange(0, len(labels))\n",
    "    #print(labels_indices)\n",
    "    return labels, labels_indices, to_categorical(labels_indices)\n",
    "\n",
    "def get_train_test(split_ratio=0.8, random_state=42):\n",
    "    labels, indices, _ = get_labels()\n",
    "#    print(labels)\n",
    "#     print(indices)\n",
    "    X = np.load(DATA_PATH+'/'+labels[0] )\n",
    "    print(X[0].shape)\n",
    "#     print(X[0])\n",
    "    y = np.zeros(X.shape[0])\n",
    "\n",
    "    for i, label in enumerate(labels[1:]):\n",
    "        x = np.load(DATA_PATH+'/'+label )\n",
    "        X = np.vstack((X, x))\n",
    "        y = np.append(y, np.full(x.shape[0], fill_value=(i + 1)))\n",
    "    assert X.shape[0] == len(y)\n",
    "\n",
    "    return train_test_split(X, y, test_size=(1 - split_ratio), random_state=random_state)"
   ]
  },
  {
   "cell_type": "code",
   "execution_count": 3,
   "id": "41a4602e",
   "metadata": {},
   "outputs": [],
   "source": [
    "OUTPUT_PATH = 'OUTPUT/'\n",
    "EPOCHS = 50\n",
    "\n",
    "CLASSES_NUM = 2"
   ]
  },
  {
   "cell_type": "code",
   "execution_count": 4,
   "id": "e8723a06",
   "metadata": {},
   "outputs": [
    {
     "name": "stdout",
     "output_type": "stream",
     "text": [
      "(12, 31)\n"
     ]
    }
   ],
   "source": [
    "X_train, X_test, y_train, y_test = get_train_test()"
   ]
  },
  {
   "cell_type": "code",
   "execution_count": 5,
   "id": "d0f89467",
   "metadata": {},
   "outputs": [],
   "source": [
    "X_train = X_train.reshape(-1,1,12,31)\n",
    "\n",
    "X_test = X_test.reshape(-1,1,12,31)"
   ]
  },
  {
   "cell_type": "code",
   "execution_count": 6,
   "id": "79405dc2",
   "metadata": {},
   "outputs": [
    {
     "name": "stdout",
     "output_type": "stream",
     "text": [
      "(160, 1, 12, 31) (160,) (40, 1, 12, 31) (40,)\n"
     ]
    }
   ],
   "source": [
    "print(X_train.shape, y_train.shape, X_test.shape, y_test.shape)"
   ]
  },
  {
   "cell_type": "code",
   "execution_count": 7,
   "id": "55a79a36",
   "metadata": {},
   "outputs": [
    {
     "name": "stdout",
     "output_type": "stream",
     "text": [
      "(160, 1, 12, 31) (40, 1, 12, 31)\n"
     ]
    }
   ],
   "source": [
    "print(X_train.shape, X_test.shape)"
   ]
  },
  {
   "cell_type": "code",
   "execution_count": 8,
   "id": "20d63387",
   "metadata": {},
   "outputs": [],
   "source": [
    "y_train_hot = to_categorical(y_train,num_classes=CLASSES_NUM)\n",
    "y_test_hot = to_categorical(y_test,num_classes=CLASSES_NUM)"
   ]
  },
  {
   "cell_type": "code",
   "execution_count": 9,
   "id": "03fd1a8f",
   "metadata": {},
   "outputs": [
    {
     "name": "stdout",
     "output_type": "stream",
     "text": [
      "(160, 2)\n"
     ]
    }
   ],
   "source": [
    "print(y_train_hot.shape)"
   ]
  },
  {
   "cell_type": "code",
   "execution_count": 10,
   "id": "664e2331",
   "metadata": {},
   "outputs": [
    {
     "name": "stdout",
     "output_type": "stream",
     "text": [
      "(160, 1, 12, 31) (160, 2) (40, 1, 12, 31) (40, 2)\n"
     ]
    }
   ],
   "source": [
    "print(X_train.shape, y_train_hot.shape, X_test.shape, y_test_hot.shape)"
   ]
  },
  {
   "cell_type": "code",
   "execution_count": 11,
   "id": "967493a2",
   "metadata": {},
   "outputs": [
    {
     "data": {
      "text/plain": [
       "(40, 1, 12, 31)"
      ]
     },
     "execution_count": 11,
     "metadata": {},
     "output_type": "execute_result"
    }
   ],
   "source": [
    "X_test.shape"
   ]
  },
  {
   "cell_type": "code",
   "execution_count": 12,
   "id": "4f96e4f2",
   "metadata": {},
   "outputs": [
    {
     "data": {
      "text/plain": [
       "(160, 1, 12, 31)"
      ]
     },
     "execution_count": 12,
     "metadata": {},
     "output_type": "execute_result"
    }
   ],
   "source": [
    "X_train.shape"
   ]
  },
  {
   "cell_type": "code",
   "execution_count": 15,
   "id": "2e442f34",
   "metadata": {},
   "outputs": [
    {
     "name": "stdout",
     "output_type": "stream",
     "text": [
      "_________________________________________________________________\n",
      "Layer (type)                 Output Shape              Param #   \n",
      "=================================================================\n",
      "conv2d_7 (Conv2D)            (None, 20, 12, 31)        200       \n",
      "_________________________________________________________________\n",
      "max_pooling2d_5 (MaxPooling2 (None, 20, 6, 16)         0         \n",
      "_________________________________________________________________\n",
      "conv2d_8 (Conv2D)            (None, 40, 6, 16)         7240      \n",
      "_________________________________________________________________\n",
      "max_pooling2d_6 (MaxPooling2 (None, 40, 3, 8)          0         \n",
      "_________________________________________________________________\n",
      "flatten_3 (Flatten)          (None, 960)               0         \n",
      "_________________________________________________________________\n",
      "dense_5 (Dense)              (None, 40)                38440     \n",
      "_________________________________________________________________\n",
      "dropout_3 (Dropout)          (None, 40)                0         \n",
      "_________________________________________________________________\n",
      "dense_6 (Dense)              (None, 2)                 82        \n",
      "=================================================================\n",
      "Total params: 45,962\n",
      "Trainable params: 45,962\n",
      "Non-trainable params: 0\n",
      "_________________________________________________________________\n"
     ]
    }
   ],
   "source": [
    "from keras.models import Sequential\n",
    "from keras.layers import Conv2D, MaxPooling2D, Flatten, Dense, Dropout\n",
    " \n",
    "model = Sequential()\n",
    " \n",
    "model.add(Conv2D(20, kernel_size=(3, 3), activation='relu', padding='same',input_shape=(1, 12,31), data_format='channels_first'))\n",
    "model.add(MaxPooling2D(pool_size=(2, 2),padding='same', data_format='channels_first'))\n",
    " \n",
    "model.add(Conv2D(40, kernel_size=(3, 3), activation='relu',padding='same', data_format='channels_first'))\n",
    "model.add(MaxPooling2D(pool_size=(2, 2),padding='same', data_format='channels_first'))\n",
    "\n",
    "# model.add(Conv2D(40, kernel_size=(3, 3), activation='relu', padding='same',data_format='channels_first'))\n",
    "\n",
    "# model.add(Conv2D(40, kernel_size=(3, 3), activation='relu', padding='same',data_format='channels_first'))\n",
    "\n",
    "model.add(Flatten())\n",
    "model.add(Dense(40, activation='relu'))\n",
    "model.add(Dropout(0.4))  \n",
    "model.add(Dense(2, activation='softmax'))\n",
    "model.summary()"
   ]
  },
  {
   "cell_type": "code",
   "execution_count": 16,
   "id": "f2c1a072",
   "metadata": {},
   "outputs": [],
   "source": [
    "model.compile(loss=keras.losses.categorical_crossentropy, optimizer=keras.optimizers.Adam(),metrics=['accuracy'])"
   ]
  },
  {
   "cell_type": "code",
   "execution_count": 17,
   "id": "d83ecf7d",
   "metadata": {},
   "outputs": [],
   "source": [
    "# from keras.optimizers import RMSprop,SGD,Adam\n",
    "# from keras.callbacks import ModelCheckpoint, EarlyStopping, ReduceLROnPlateau\n",
    "\n",
    "# checkpoint = ModelCheckpoint(\"./model.h5\", monitor='val_acc', verbose=1, save_best_only=True, mode='max')\n",
    "\n",
    "# early_stopping = EarlyStopping(monitor='val_loss',min_delta=0,patience=3,verbose=1,restore_best_weights=True)\n",
    "\n",
    "\n",
    "# reduce_learningrate = ReduceLROnPlateau(monitor='val_loss',factor=0.2,patience=3,verbose=1,min_delta=0.01)\n",
    "# callbacks_list = [early_stopping,checkpoint,reduce_learningrate]"
   ]
  },
  {
   "cell_type": "code",
   "execution_count": 19,
   "id": "080e9f1d",
   "metadata": {
    "scrolled": true
   },
   "outputs": [
    {
     "name": "stdout",
     "output_type": "stream",
     "text": [
      "Train on 160 samples, validate on 40 samples\n",
      "Epoch 1/20\n",
      "160/160 [==============================] - ETA: 0s - loss: 0.1418 - acc: 1.000 - ETA: 0s - loss: 0.2074 - acc: 0.937 - 0s 1ms/step - loss: 0.1954 - acc: 0.9437 - val_loss: 0.2278 - val_acc: 0.9500\n",
      "Epoch 2/20\n",
      "160/160 [==============================] - ETA: 0s - loss: 0.1969 - acc: 0.968 - ETA: 0s - loss: 0.1859 - acc: 0.968 - 0s 924us/step - loss: 0.1815 - acc: 0.9688 - val_loss: 0.2199 - val_acc: 0.9500\n",
      "Epoch 3/20\n",
      "160/160 [==============================] - ETA: 0s - loss: 0.2371 - acc: 0.906 - ETA: 0s - loss: 0.1867 - acc: 0.960 - 0s 855us/step - loss: 0.1803 - acc: 0.9562 - val_loss: 0.1588 - val_acc: 1.0000\n",
      "Epoch 4/20\n",
      "160/160 [==============================] - ETA: 0s - loss: 0.1142 - acc: 0.968 - ETA: 0s - loss: 0.1221 - acc: 0.989 - 0s 853us/step - loss: 0.1301 - acc: 0.9875 - val_loss: 0.1510 - val_acc: 1.0000\n",
      "Epoch 5/20\n",
      "160/160 [==============================] - ETA: 0s - loss: 0.1341 - acc: 0.968 - ETA: 0s - loss: 0.1077 - acc: 0.976 - 0s 930us/step - loss: 0.1140 - acc: 0.9750 - val_loss: 0.1065 - val_acc: 1.0000\n",
      "Epoch 6/20\n",
      "160/160 [==============================] - ETA: 0s - loss: 0.0605 - acc: 1.000 - ETA: 0s - loss: 0.0838 - acc: 1.000 - 0s 949us/step - loss: 0.0747 - acc: 1.0000 - val_loss: 0.0872 - val_acc: 1.0000\n",
      "Epoch 7/20\n",
      "160/160 [==============================] - ETA: 0s - loss: 0.0981 - acc: 0.968 - ETA: 0s - loss: 0.1082 - acc: 0.968 - 0s 1ms/step - loss: 0.0997 - acc: 0.9750 - val_loss: 0.0727 - val_acc: 1.0000\n",
      "Epoch 8/20\n",
      "160/160 [==============================] - ETA: 0s - loss: 0.1115 - acc: 1.000 - ETA: 0s - loss: 0.0826 - acc: 1.000 - 0s 898us/step - loss: 0.0827 - acc: 1.0000 - val_loss: 0.0721 - val_acc: 1.0000\n",
      "Epoch 9/20\n",
      "160/160 [==============================] - ETA: 0s - loss: 0.0653 - acc: 1.000 - ETA: 0s - loss: 0.0722 - acc: 0.992 - 0s 892us/step - loss: 0.0658 - acc: 0.9938 - val_loss: 0.0503 - val_acc: 1.0000\n",
      "Epoch 10/20\n",
      "160/160 [==============================] - ETA: 0s - loss: 0.0421 - acc: 1.000 - ETA: 0s - loss: 0.0469 - acc: 1.000 - 0s 880us/step - loss: 0.0480 - acc: 1.0000 - val_loss: 0.0516 - val_acc: 1.0000\n",
      "Epoch 11/20\n",
      "160/160 [==============================] - ETA: 0s - loss: 0.0412 - acc: 1.000 - ETA: 0s - loss: 0.0398 - acc: 1.000 - 0s 874us/step - loss: 0.0471 - acc: 1.0000 - val_loss: 0.0347 - val_acc: 1.0000\n",
      "Epoch 12/20\n",
      "160/160 [==============================] - ETA: 0s - loss: 0.0282 - acc: 1.000 - ETA: 0s - loss: 0.0520 - acc: 0.992 - 0s 892us/step - loss: 0.0505 - acc: 0.9938 - val_loss: 0.0301 - val_acc: 1.0000\n",
      "Epoch 13/20\n",
      "160/160 [==============================] - ETA: 0s - loss: 0.0398 - acc: 1.000 - ETA: 0s - loss: 0.0393 - acc: 1.000 - 0s 861us/step - loss: 0.0423 - acc: 1.0000 - val_loss: 0.0461 - val_acc: 1.0000\n",
      "Epoch 14/20\n",
      "160/160 [==============================] - ETA: 0s - loss: 0.0586 - acc: 1.000 - ETA: 0s - loss: 0.0363 - acc: 1.000 - 0s 911us/step - loss: 0.0325 - acc: 1.0000 - val_loss: 0.0297 - val_acc: 1.0000\n",
      "Epoch 15/20\n",
      "160/160 [==============================] - ETA: 0s - loss: 0.0384 - acc: 1.000 - ETA: 0s - loss: 0.0304 - acc: 1.000 - 0s 901us/step - loss: 0.0282 - acc: 1.0000 - val_loss: 0.0191 - val_acc: 1.0000\n",
      "Epoch 16/20\n",
      "160/160 [==============================] - ETA: 0s - loss: 0.0117 - acc: 1.000 - ETA: 0s - loss: 0.0249 - acc: 1.000 - 0s 882us/step - loss: 0.0284 - acc: 1.0000 - val_loss: 0.0250 - val_acc: 1.0000\n",
      "Epoch 17/20\n",
      "160/160 [==============================] - ETA: 0s - loss: 0.0167 - acc: 1.000 - ETA: 0s - loss: 0.0247 - acc: 0.989 - 0s 895us/step - loss: 0.0285 - acc: 0.9875 - val_loss: 0.0139 - val_acc: 1.0000\n",
      "Epoch 18/20\n",
      "160/160 [==============================] - ETA: 0s - loss: 0.0262 - acc: 1.000 - ETA: 0s - loss: 0.0200 - acc: 1.000 - 0s 871us/step - loss: 0.0211 - acc: 1.0000 - val_loss: 0.0126 - val_acc: 1.0000\n",
      "Epoch 19/20\n",
      "160/160 [==============================] - ETA: 0s - loss: 0.0197 - acc: 1.000 - ETA: 0s - loss: 0.0207 - acc: 1.000 - 0s 843us/step - loss: 0.0215 - acc: 1.0000 - val_loss: 0.0147 - val_acc: 1.0000\n",
      "Epoch 20/20\n",
      "160/160 [==============================] - ETA: 0s - loss: 0.0296 - acc: 1.000 - ETA: 0s - loss: 0.0236 - acc: 1.000 - 0s 921us/step - loss: 0.0201 - acc: 1.0000 - val_loss: 0.0103 - val_acc: 1.0000\n"
     ]
    }
   ],
   "source": [
    "history = model.fit(X_train, y_train_hot,batch_size=32,epochs=20,verbose=1,validation_data=(X_test, y_test_hot))"
   ]
  },
  {
   "cell_type": "code",
   "execution_count": 31,
   "id": "788c182c",
   "metadata": {},
   "outputs": [],
   "source": [
    "model.save(\"Chorma_npy.h5\")"
   ]
  },
  {
   "cell_type": "code",
   "execution_count": 20,
   "id": "414f06fc",
   "metadata": {},
   "outputs": [
    {
     "name": "stdout",
     "output_type": "stream",
     "text": [
      "40/40 [==============================] - ETA:  - 0s 534us/step\n"
     ]
    },
    {
     "data": {
      "text/plain": [
       "[0.01030592992901802, 1.0]"
      ]
     },
     "execution_count": 20,
     "metadata": {},
     "output_type": "execute_result"
    }
   ],
   "source": [
    "test_acc = model.evaluate(X_test, y_test_hot)\n",
    "test_acc"
   ]
  },
  {
   "cell_type": "code",
   "execution_count": 21,
   "id": "1f057845",
   "metadata": {},
   "outputs": [
    {
     "data": {
      "image/png": "[encoded data removed]",
      "text/plain": [
       "<Figure size 432x288 with 1 Axes>"
      ]
     },
     "metadata": {
      "needs_background": "light"
     },
     "output_type": "display_data"
    }
   ],
   "source": [
    "plt.plot(history.history['acc'])\n",
    "plt.plot(history.history['val_acc'])\n",
    "plt.legend(['Train', 'Validation'], loc='center right')\n",
    "plt.show()"
   ]
  },
  {
   "cell_type": "code",
   "execution_count": 22,
   "id": "c4578522",
   "metadata": {},
   "outputs": [
    {
     "data": {
      "image/png": "[encoded data removed]",
      "text/plain": [
       "<Figure size 432x288 with 1 Axes>"
      ]
     },
     "metadata": {
      "needs_background": "light"
     },
     "output_type": "display_data"
    }
   ],
   "source": [
    "plt.plot(history.history['loss'], label=\"train_loss\")\n",
    "plt.plot(history.history['val_loss'], label=\"val_loss\")\n",
    "plt.legend(['Train_loss', 'Validation_loss'], loc='upper right')\n",
    "plt.show()"
   ]
  },
  {
   "cell_type": "code",
   "execution_count": 23,
   "id": "64e73a63",
   "metadata": {},
   "outputs": [],
   "source": [
    "np.set_printoptions(threshold=np.inf)\n",
    "np.set_printoptions(suppress=True)\n",
    "preds=model.predict(X_test)"
   ]
  },
  {
   "cell_type": "code",
   "execution_count": 24,
   "id": "fb1e4e22",
   "metadata": {},
   "outputs": [
    {
     "data": {
      "text/plain": [
       "array([[0.9944502 , 0.00554984],\n",
       "       [0.9844757 , 0.01552429],\n",
       "       [0.99905914, 0.00094083],\n",
       "       [0.04790414, 0.95209587],\n",
       "       [0.04790414, 0.95209587],\n",
       "       [0.00312623, 0.99687374],\n",
       "       [0.99960536, 0.00039461],\n",
       "       [0.00365134, 0.9963486 ],\n",
       "       [0.00365134, 0.9963486 ],\n",
       "       [0.9985777 , 0.00142231],\n",
       "       [0.98547155, 0.01452838],\n",
       "       [0.00026506, 0.99973494],\n",
       "       [0.00009266, 0.9999074 ],\n",
       "       [0.9965695 , 0.00343044],\n",
       "       [0.00008269, 0.99991727],\n",
       "       [0.02742188, 0.9725781 ],\n",
       "       [0.99528015, 0.0047199 ],\n",
       "       [0.00824321, 0.9917568 ],\n",
       "       [0.99056375, 0.00943626],\n",
       "       [0.99960536, 0.00039461],\n",
       "       [0.00270974, 0.99729025],\n",
       "       [0.9844757 , 0.01552429],\n",
       "       [0.00002734, 0.9999727 ],\n",
       "       [0.9944502 , 0.00554984],\n",
       "       [0.98547155, 0.01452838],\n",
       "       [0.9876889 , 0.01231101],\n",
       "       [0.99056375, 0.00943626],\n",
       "       [0.98547155, 0.01452838],\n",
       "       [0.00270974, 0.99729025],\n",
       "       [0.04102521, 0.9589748 ],\n",
       "       [0.9844757 , 0.01552429],\n",
       "       [0.9977331 , 0.00226685],\n",
       "       [0.99528015, 0.0047199 ],\n",
       "       [0.9965695 , 0.00343044],\n",
       "       [0.00002734, 0.9999727 ],\n",
       "       [0.00534866, 0.9946514 ],\n",
       "       [0.04102521, 0.9589748 ],\n",
       "       [0.01270662, 0.98729336],\n",
       "       [0.0011568 , 0.9988432 ],\n",
       "       [0.9965695 , 0.00343044]], dtype=float32)"
      ]
     },
     "execution_count": 24,
     "metadata": {},
     "output_type": "execute_result"
    }
   ],
   "source": [
    "preds=model.predict(X_test)\n",
    "preds"
   ]
  },
  {
   "cell_type": "code",
   "execution_count": 25,
   "id": "6bcabf9d",
   "metadata": {},
   "outputs": [
    {
     "name": "stdout",
     "output_type": "stream",
     "text": [
      "Confusion Matrix\n"
     ]
    }
   ],
   "source": [
    "from sklearn.metrics import classification_report, confusion_matrix\n",
    "print('Confusion Matrix')\n",
    "cf=confusion_matrix(y_test_hot.argmax(axis=1), preds.argmax(axis=1))"
   ]
  },
  {
   "cell_type": "code",
   "execution_count": 26,
   "id": "9fc69d9e",
   "metadata": {},
   "outputs": [],
   "source": [
    "import numpy as np\n",
    "\n",
    "\n",
    "def plot_confusion_matrix(cm,\n",
    "                          target_names,\n",
    "                          title='Confusion matrix',\n",
    "                          cmap=None,\n",
    "                          normalize=True):\n",
    "    \"\"\"\n",
    "    given a sklearn confusion matrix (cm), make a nice plot\n",
    "\n",
    "    Arguments\n",
    "    ---------\n",
    "    cm:           confusion matrix from sklearn.metrics.confusion_matrix\n",
    "\n",
    "    target_names: given classification classes such as [0, 1, 2]\n",
    "                  the class names, for example: ['high', 'medium', 'low']\n",
    "\n",
    "    title:        the text to display at the top of the matrix\n",
    "\n",
    "    cmap:         the gradient of the values displayed from matplotlib.pyplot.cm\n",
    "                  see http://matplotlib.org/examples/color/colormaps_reference.html\n",
    "                  plt.get_cmap('jet') or plt.cm.Blues\n",
    "\n",
    "    normalize:    If False, plot the raw numbers\n",
    "                  If True, plot the proportions\n",
    "\n",
    "    Usage\n",
    "    -----\n",
    "    plot_confusion_matrix(cm           = cm,                  # confusion matrix created by\n",
    "                                                              # sklearn.metrics.confusion_matrix\n",
    "                          normalize    = True,                # show proportions\n",
    "                          target_names = y_labels_vals,       # list of names of the classes\n",
    "                          title        = best_estimator_name) # title of graph\n",
    "\n",
    "    Citiation\n",
    "    ---------\n",
    "    http://scikit-learn.org/stable/auto_examples/model_selection/plot_confusion_matrix.html\n",
    "\n",
    "    \"\"\"\n",
    "    import matplotlib.pyplot as plt\n",
    "    import numpy as np\n",
    "    import itertools\n",
    "\n",
    "    accuracy = np.trace(cm) / float(np.sum(cm))\n",
    "    misclass = 1 - accuracy\n",
    "\n",
    "    if cmap is None:\n",
    "        cmap = plt.get_cmap('Blues')\n",
    "\n",
    "    plt.figure(figsize=(10, 7))\n",
    "    plt.imshow(cm, interpolation='nearest', cmap=cmap)\n",
    "    plt.title(title)\n",
    "    plt.colorbar()\n",
    "\n",
    "    if target_names is not None:\n",
    "        tick_marks = np.arange(len(target_names))\n",
    "        plt.xticks(tick_marks, target_names, rotation=45,fontsize=16)\n",
    "        plt.yticks(tick_marks, target_names,fontsize=16)\n",
    "\n",
    "    if normalize:\n",
    "        cm = cm.astype('float') / cm.sum(axis=1)[:, np.newaxis]\n",
    "\n",
    "\n",
    "    thresh = cm.max() / 1.5 if normalize else cm.max() / 2\n",
    "    for i, j in itertools.product(range(cm.shape[0]), range(cm.shape[1])):\n",
    "        if normalize:\n",
    "            plt.text(j, i, \"{:0.4f}\".format(cm[i, j]),fontsize=16,\n",
    "                     horizontalalignment=\"center\",\n",
    "                     color=\"white\" if cm[i, j] > thresh else \"black\")\n",
    "        else:\n",
    "            plt.text(j, i, \"{:,}\".format(cm[i, j]),fontsize=16,\n",
    "                     horizontalalignment=\"center\",\n",
    "                     color=\"white\" if cm[i, j] > thresh else \"black\")\n",
    "\n",
    "\n",
    "    plt.tight_layout()\n",
    "    plt.ylabel('True label')\n",
    "    plt.xlabel('Predicted label\\naccuracy={:0.4f}; misclass={:0.4f}'.format(accuracy, misclass))\n",
    "    plt.show()"
   ]
  },
  {
   "cell_type": "code",
   "execution_count": 27,
   "id": "32b46827",
   "metadata": {},
   "outputs": [
    {
     "name": "stdout",
     "output_type": "stream",
     "text": [
      "\n",
      "Classification Report:\n",
      "              precision    recall  f1-score   support\n",
      "\n",
      "        Ravi       1.00      1.00      1.00        21\n",
      "      Sachin       1.00      1.00      1.00        19\n",
      "\n",
      "    accuracy                           1.00        40\n",
      "   macro avg       1.00      1.00      1.00        40\n",
      "weighted avg       1.00      1.00      1.00        40\n",
      "\n"
     ]
    },
    {
     "data": {
      "image/png": "[encoded data removed]",
      "text/plain": [
       "<Figure size 720x504 with 2 Axes>"
      ]
     },
     "metadata": {
      "needs_background": "light"
     },
     "output_type": "display_data"
    }
   ],
   "source": [
    "# Create classification report\n",
    "class_report = classification_report(y_test_hot.argmax(axis=1), preds.argmax(axis=1),\n",
    "                                     target_names = ['Ravi','Sachin'])\n",
    "print(\"\\nClassification Report:\")\n",
    "print(class_report)\n",
    "\n",
    "# plot the confusion matrix\n",
    "plot_confusion_matrix(cm           = cf, \n",
    "                      normalize    = False,\n",
    "                      target_names = ['Ravi','Sachin'],title        = \"Confusion Matrix\")"
   ]
  },
  {
   "cell_type": "code",
   "execution_count": 28,
   "id": "d04603b1",
   "metadata": {},
   "outputs": [
    {
     "name": "stdout",
     "output_type": "stream",
     "text": [
      "confusion_matrix\n"
     ]
    },
    {
     "data": {
      "text/plain": [
       "array([[79,  0],\n",
       "       [ 0, 81]], dtype=int64)"
      ]
     },
     "execution_count": 28,
     "metadata": {},
     "output_type": "execute_result"
    }
   ],
   "source": [
    "X_train = X_train.reshape(len(X_train), 1, 12,31)   #X_train = np.expand_dims(X_train, axis=1)\n",
    "preds = model.predict(X_train)\n",
    "from sklearn.metrics import classification_report, confusion_matrix\n",
    "print('confusion_matrix')\n",
    "confusion_matrix(y_train_hot.argmax(axis=1), preds.argmax(axis=1))"
   ]
  },
  {
   "cell_type": "code",
   "execution_count": 29,
   "id": "c77a75b9",
   "metadata": {},
   "outputs": [
    {
     "name": "stdout",
     "output_type": "stream",
     "text": [
      "confusion_matrix\n"
     ]
    },
    {
     "data": {
      "text/plain": [
       "array([[21,  0],\n",
       "       [ 0, 19]], dtype=int64)"
      ]
     },
     "execution_count": 29,
     "metadata": {},
     "output_type": "execute_result"
    }
   ],
   "source": [
    "X_test = X_test.reshape(len(X_test), 1,12,31)  #X_test = np.expand_dims(X_test, axis=1)\n",
    "preds = model.predict(X_test)\n",
    "from sklearn.metrics import classification_report, confusion_matrix\n",
    "print('confusion_matrix')\n",
    "confusion_matrix(y_test_hot.argmax(axis=1), preds.argmax(axis=1))"
   ]
  },
  {
   "cell_type": "code",
   "execution_count": 30,
   "id": "f8e0f98a",
   "metadata": {},
   "outputs": [
    {
     "name": "stdout",
     "output_type": "stream",
     "text": [
      "Input data shape: (40, 1, 12, 31)\n",
      "First input example: [[[0.08426502 0.11080505 0.06369986 0.06883395 0.08406475 0.09695263\n",
      "   0.11582932 0.08586617 0.11972329 0.09273967 0.10333083 0.10831839\n",
      "   0.10427572 0.06783593 0.10588245 0.10324989 0.07019125 0.0333855\n",
      "   0.03799182 0.03672206 0.03275577 0.02997842 0.04553708 0.03759224\n",
      "   0.04881991 0.04990774 0.03749206 0.05616381 0.04871055 0.04064694\n",
      "   0.05667999]\n",
      "  [0.05367251 0.07683702 0.05577316 0.06585202 0.04461719 0.04656969\n",
      "   0.0943911  0.06503841 0.0930761  0.0749786  0.08479505 0.07884565\n",
      "   0.06459515 0.09461005 0.06256664 0.05783572 0.0803907  0.0624525\n",
      "   0.04510292 0.04691824 0.04428668 0.03508742 0.05387924 0.04640929\n",
      "   0.07226734 0.05681643 0.03806297 0.08128217 0.06968126 0.03832466\n",
      "   0.08890948]\n",
      "  [0.23551602 0.25958202 0.09731492 0.05164533 0.08224765 0.06214486\n",
      "   0.08169565 0.08337004 0.07342411 0.0546912  0.06980975 0.07338566\n",
      "   0.12825227 0.12591119 0.10551187 0.11754038 0.07244647 0.04837925\n",
      "   0.03503829 0.04092926 0.03203362 0.04869481 0.04115099 0.04641158\n",
      "   0.07209201 0.06313977 0.0629459  0.07400312 0.09406427 0.07925713\n",
      "   0.12043855]\n",
      "  [0.02642733 0.0456129  0.04859763 0.04908003 0.03575578 0.02429951\n",
      "   0.02676652 0.05521572 0.05846233 0.04644826 0.04053561 0.0598821\n",
      "   0.08609275 0.05159969 0.04237162 0.04269867 0.02855588 0.03858316\n",
      "   0.06129315 0.05343721 0.03091131 0.05507296 0.03230931 0.02307814\n",
      "   0.04335909 0.04412703 0.02590878 0.04633249 0.05659092 0.07194838\n",
      "   0.04342547]\n",
      "  [0.10853518 0.11016262 0.09472417 0.03999278 0.05990989 0.04254064\n",
      "   0.06850713 0.10756946 0.12047947 0.07989973 0.06993882 0.11403461\n",
      "   0.11514907 0.10825812 0.12411923 0.06745513 0.06425765 0.05467642\n",
      "   0.05450649 0.05169254 0.06139202 0.05309089 0.04818939 0.0630511\n",
      "   0.06434511 0.06376418 0.04986797 0.04115445 0.05056864 0.05609725\n",
      "   0.05655767]\n",
      "  [0.07478186 0.04210125 0.05625955 0.09027372 0.03737744 0.04417316\n",
      "   0.06765215 0.04363151 0.09919844 0.04337704 0.06802537 0.05448362\n",
      "   0.07254688 0.07796924 0.06837944 0.052279   0.05899984 0.08888894\n",
      "   0.09821518 0.104197   0.12755089 0.13625029 0.10839161 0.09953351\n",
      "   0.1119502  0.06387483 0.0376281  0.07613511 0.10760153 0.11061494\n",
      "   0.08274677]\n",
      "  [0.09943302 0.09157704 0.1259956  0.12128466 0.07980569 0.08670215\n",
      "   0.09550309 0.07681961 0.09728795 0.10053754 0.08951678 0.08866277\n",
      "   0.07719885 0.10152559 0.06851542 0.11048875 0.18797028 0.17765978\n",
      "   0.16322215 0.157324   0.17749018 0.17726414 0.18655878 0.15174042\n",
      "   0.15211117 0.10572491 0.11787457 0.14612586 0.15314059 0.17077992\n",
      "   0.07423339]\n",
      "  [0.03949764 0.04387986 0.06492231 0.08022053 0.07416105 0.11191109\n",
      "   0.07962503 0.10024694 0.05420262 0.09066065 0.12396881 0.08268225\n",
      "   0.05890505 0.08072342 0.0676671  0.09964932 0.1371298  0.08044199\n",
      "   0.08210603 0.07230411 0.08174131 0.09833833 0.11867868 0.13110205\n",
      "   0.08632797 0.06785782 0.10368342 0.07920619 0.11871247 0.09026442\n",
      "   0.07916403]\n",
      "  [0.07030157 0.03366902 0.10713858 0.13139846 0.17756438 0.09530366\n",
      "   0.10334755 0.18699891 0.09619805 0.12774612 0.14295356 0.12697076\n",
      "   0.0809393  0.11832789 0.16058125 0.11451664 0.08995269 0.12715784\n",
      "   0.16058504 0.11812313 0.11203233 0.15033418 0.13853317 0.16330218\n",
      "   0.1314448  0.14255365 0.18189523 0.12505546 0.10826424 0.1117993\n",
      "   0.12242981]\n",
      "  [0.08410484 0.10782052 0.12623973 0.13471842 0.10296719 0.13123298\n",
      "   0.05745776 0.06892346 0.07183392 0.10733538 0.039302   0.07307318\n",
      "   0.08529122 0.06762354 0.07174433 0.11327561 0.04536395 0.10015417\n",
      "   0.12039043 0.14394248 0.14033987 0.11419519 0.08662134 0.08457765\n",
      "   0.07906935 0.14158242 0.15368533 0.1248496  0.075457   0.1066914\n",
      "   0.13677116]\n",
      "  [0.06135437 0.02213738 0.06435168 0.09806017 0.1014214  0.09011191\n",
      "   0.04795912 0.04567322 0.03939512 0.06753111 0.0417581  0.04027467\n",
      "   0.05523491 0.04590448 0.07017567 0.03151607 0.09861335 0.1230231\n",
      "   0.09236533 0.12295619 0.11226869 0.0702826  0.08562336 0.08624834\n",
      "   0.075412   0.13896247 0.127479   0.09546045 0.06261933 0.08718945\n",
      "   0.08636241]\n",
      "  [0.06211065 0.05581532 0.09498281 0.06863991 0.12010758 0.1680577\n",
      "   0.16126558 0.08064655 0.0767186  0.11405471 0.12606534 0.09938632\n",
      "   0.07151882 0.05971084 0.05248497 0.08949482 0.06612813 0.06519737\n",
      "   0.04918317 0.05145378 0.04719733 0.03141077 0.05452704 0.0669535\n",
      "   0.06280105 0.06168876 0.06347667 0.05423129 0.05458921 0.03638622\n",
      "   0.05228127]]]\n"
     ]
    }
   ],
   "source": [
    "input_data = X_test\n",
    "print(\"Input data shape:\", input_data.shape)\n",
    "print(\"First input example:\", input_data[0])"
   ]
  },
  {
   "cell_type": "markdown",
   "id": "77e2253d",
   "metadata": {},
   "source": [
    "# load the model"
   ]
  },
  {
   "cell_type": "code",
   "execution_count": 1,
   "id": "a0d7ae29",
   "metadata": {},
   "outputs": [
    {
     "ename": "NameError",
     "evalue": "name 'keras' is not defined",
     "output_type": "error",
     "traceback": [
      "\u001b[1;31m---------------------------------------------------------------------------\u001b[0m",
      "\u001b[1;31mNameError\u001b[0m                                 Traceback (most recent call last)",
      "\u001b[1;32m<ipython-input-1-92c4c3debff1>\u001b[0m in \u001b[0;36m<module>\u001b[1;34m\u001b[0m\n\u001b[1;32m----> 1\u001b[1;33m \u001b[0mmodel\u001b[0m \u001b[1;33m=\u001b[0m \u001b[0mkeras\u001b[0m\u001b[1;33m.\u001b[0m\u001b[0mmodels\u001b[0m\u001b[1;33m.\u001b[0m\u001b[0mload_model\u001b[0m\u001b[1;33m(\u001b[0m\u001b[1;34m'Chorma_npy.h5'\u001b[0m\u001b[1;33m)\u001b[0m\u001b[1;33m\u001b[0m\u001b[1;33m\u001b[0m\u001b[0m\n\u001b[0m\u001b[0;32m      2\u001b[0m \u001b[0mmodel\u001b[0m\u001b[1;33m.\u001b[0m\u001b[0msummary\u001b[0m\u001b[1;33m(\u001b[0m\u001b[1;33m)\u001b[0m\u001b[1;33m\u001b[0m\u001b[1;33m\u001b[0m\u001b[0m\n",
      "\u001b[1;31mNameError\u001b[0m: name 'keras' is not defined"
     ]
    }
   ],
   "source": [
    "model = keras.models.load_model('Chorma_npy.h5')\n",
    "model.summary()"
   ]
  },
  {
   "cell_type": "code",
   "execution_count": 5,
   "id": "bf614c36",
   "metadata": {},
   "outputs": [
    {
     "name": "stdout",
     "output_type": "stream",
     "text": [
      "The predicted class for the audio file is: Ravi\n"
     ]
    }
   ],
   "source": [
    "from sklearn.preprocessing import LabelEncoder\n",
    "# Function to extract chroma features from a single audio file\n",
    "def extract_chroma_features_from_file(file_path):\n",
    "    y, sr = librosa.load(file_path, sr=8000)\n",
    "    # Ensure the chroma feature matrix has 31 frames\n",
    "    chroma = librosa.feature.chroma_stft(y=y, sr=sr, n_chroma=12, n_fft=2048, hop_length=512)\n",
    "    chroma = chroma[:, :31]  # Truncate or pad to 31 frames if necessary\n",
    "    if chroma.shape[1] < 31:\n",
    "        padding = np.zeros((12, 31 - chroma.shape[1]))\n",
    "        chroma = np.hstack((chroma, padding))\n",
    "    return chroma\n",
    "\n",
    "# Example file path\n",
    "# file_path = r\"D:\\Command + Non_Command_words\\hardware_data_NCM\\data-hw\\Ravi_boy_4.wav\"\n",
    "file_path = r\"D:\\Command + Non_Command_words\\Training_dataset\\Bank\\sachin_bank_7.wav\"\n",
    "\n",
    "# Extract features from the file\n",
    "features = extract_chroma_features_from_file(file_path)\n",
    "\n",
    "# Reshape features to match the input shape expected by the model\n",
    "features = features.reshape(1, 1, 12, 31)  # Add batch size and channel dimensions\n",
    "\n",
    "# Make the prediction\n",
    "prediction = model.predict(features)\n",
    "predicted_class = np.argmax(prediction, axis=1)\n",
    "\n",
    "# Decode the predicted class\n",
    "le = LabelEncoder()\n",
    "le.fit(['Ravi', 'Sachin'])\n",
    "predicted_label = le.inverse_transform(predicted_class)\n",
    "\n",
    "print(f\"The predicted class for the audio file is: {predicted_label[0]}\")\n",
    "\n"
   ]
  },
  {
   "cell_type": "code",
   "execution_count": null,
   "id": "2d059452",
   "metadata": {},
   "outputs": [],
   "source": []
  }
 ],
 "metadata": {
  "kernelspec": {
   "display_name": "Python 3",
   "language": "python",
   "name": "python3"
  },
  "language_info": {
   "codemirror_mode": {
    "name": "ipython",
    "version": 3
   },
   "file_extension": ".py",
   "mimetype": "text/x-python",
   "name": "python",
   "nbconvert_exporter": "python",
   "pygments_lexer": "ipython3",
   "version": "3.7.6"
  }
 },
 "nbformat": 4,
 "nbformat_minor": 5
}
