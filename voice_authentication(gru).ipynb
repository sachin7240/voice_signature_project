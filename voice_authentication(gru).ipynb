{
 "cells": [
  {
   "cell_type": "code",
   "execution_count": 1,
   "metadata": {},
   "outputs": [],
   "source": [
    "import os\n",
    "import numpy as np\n",
    "import librosa\n",
    "from sklearn.preprocessing import LabelEncoder\n",
    "from sklearn.metrics import confusion_matrix, ConfusionMatrixDisplay\n",
    "from tensorflow.keras.preprocessing.sequence import pad_sequences\n",
    "from tensorflow.keras.models import Sequential, load_model\n",
    "from tensorflow.keras.layers import GRU, Dense, Masking\n",
    "import matplotlib.pyplot as plt"
   ]
  },
  {
   "cell_type": "code",
   "execution_count": 2,
   "metadata": {},
   "outputs": [],
   "source": [
    "\n",
    "def extract_chroma_features(file_path,sr=8000):\n",
    "    y, sr = librosa.load(file_path, sr=None)\n",
    "    chroma = librosa.feature.chroma_stft(y=y, sr=sr)\n",
    "    return chroma.T  # Transpose to have time axis first\n",
    "\n",
    "def load_dataset(directory,sr=8000):\n",
    "    features = []\n",
    "    labels = []\n",
    "    filenames = []\n",
    "    for subdir, dirs, files in os.walk(directory):\n",
    "        for file in files:\n",
    "            if file.endswith('.wav'):\n",
    "                file_path = os.path.join(subdir, file)\n",
    "                chroma_features = extract_chroma_features(file_path)\n",
    "                features.append(chroma_features)\n",
    "                labels.append(os.path.basename(subdir))  # Assuming subdirectory names are labels\n",
    "                filenames.append(file_path)\n",
    "    return features, labels, filenames"
   ]
  },
  {
   "cell_type": "code",
   "execution_count": 3,
   "metadata": {},
   "outputs": [
    {
     "name": "stdout",
     "output_type": "stream",
     "text": [
      "Number of samples: 198\n",
      "Shape of first sample's features: (17, 12)\n"
     ]
    }
   ],
   "source": [
    "# Load dataset\n",
    "features, labels, filenames = load_dataset(r\"C:\\Users\\Sachin\\Desktop\\ai_projects\\Alexa\\dataset_alexa\")\n",
    "\n",
    "# Print the shape of extracted features\n",
    "print(f\"Number of samples: {len(features)}\")\n",
    "print(f\"Shape of first sample's features: {features[10].shape}\")\n"
   ]
  },
  {
   "cell_type": "code",
   "execution_count": 4,
   "metadata": {},
   "outputs": [],
   "source": [
    "# Encode labels to integers\n",
    "label_encoder = LabelEncoder()\n",
    "encoded_labels = label_encoder.fit_transform(labels)\n",
    "\n",
    "# Pad sequences to the same length\n",
    "max_sequence_length = max([len(f) for f in features])\n",
    "padded_features = pad_sequences(features, maxlen=max_sequence_length, dtype='float32', padding='post', truncating='post')\n",
    "\n",
    "# Convert labels to one-hot encoding\n",
    "num_classes = len(label_encoder.classes_)\n",
    "encoded_labels = np.eye(num_classes)[encoded_labels]"
   ]
  },
  {
   "cell_type": "code",
   "execution_count": 5,
   "metadata": {},
   "outputs": [
    {
     "name": "stdout",
     "output_type": "stream",
     "text": [
      "Padded features shape: (198, 17, 12)\n",
      "Encoded labels shape: (198, 2)\n"
     ]
    }
   ],
   "source": [
    "# Print shapes after preprocessing\n",
    "print(f\"Padded features shape: {padded_features.shape}\")\n",
    "print(f\"Encoded labels shape: {encoded_labels.shape}\")"
   ]
  },
  {
   "cell_type": "code",
   "execution_count": 6,
   "metadata": {},
   "outputs": [
    {
     "name": "stdout",
     "output_type": "stream",
     "text": [
      "WARNING:tensorflow:From C:\\Users\\Sachin\\anaconda3\\lib\\site-packages\\tensorflow_core\\python\\ops\\resource_variable_ops.py:1630: calling BaseResourceVariable.__init__ (from tensorflow.python.ops.resource_variable_ops) with constraint is deprecated and will be removed in a future version.\n",
      "Instructions for updating:\n",
      "If using Keras pass *_constraint arguments to layers.\n",
      "WARNING:tensorflow:From C:\\Users\\Sachin\\anaconda3\\lib\\site-packages\\tensorflow_core\\python\\keras\\backend.py:3994: where (from tensorflow.python.ops.array_ops) is deprecated and will be removed in a future version.\n",
      "Instructions for updating:\n",
      "Use tf.where in 2.0, which has the same broadcast rule as np.where\n",
      "Model: \"sequential\"\n",
      "_________________________________________________________________\n",
      "Layer (type)                 Output Shape              Param #   \n",
      "=================================================================\n",
      "masking (Masking)            (None, 17, 12)            0         \n",
      "_________________________________________________________________\n",
      "gru (GRU)                    (None, 64)                14784     \n",
      "_________________________________________________________________\n",
      "dense (Dense)                (None, 2)                 130       \n",
      "=================================================================\n",
      "Total params: 14,914\n",
      "Trainable params: 14,914\n",
      "Non-trainable params: 0\n",
      "_________________________________________________________________\n"
     ]
    }
   ],
   "source": [
    "\n",
    "# Build the GRU model\n",
    "gru_model = Sequential()\n",
    "gru_model.add(Masking(mask_value=0., input_shape=(max_sequence_length, 12)))  # 12 chroma features\n",
    "gru_model.add(GRU(64, return_sequences=False))\n",
    "gru_model.add(Dense(num_classes, activation='softmax'))\n",
    "gru_model.summary()"
   ]
  },
  {
   "cell_type": "code",
   "execution_count": 7,
   "metadata": {},
   "outputs": [],
   "source": [
    "gru_model.compile(loss='categorical_crossentropy', optimizer='adam', metrics=['accuracy'])\n"
   ]
  },
  {
   "cell_type": "code",
   "execution_count": 8,
   "metadata": {},
   "outputs": [
    {
     "name": "stdout",
     "output_type": "stream",
     "text": [
      "Train on 158 samples, validate on 40 samples\n",
      "Epoch 1/20\n",
      "158/158 [==============================] - ETA: 1s - loss: 0.6788 - acc: 0.562 - 0s 3ms/sample - loss: 0.6806 - acc: 0.5696 - val_loss: 0.8929 - val_acc: 0.1500\n",
      "Epoch 2/20\n",
      "158/158 [==============================] - ETA: 0s - loss: 0.6907 - acc: 0.500 - 0s 354us/sample - loss: 0.6562 - acc: 0.6139 - val_loss: 0.8189 - val_acc: 0.3000\n",
      "Epoch 3/20\n",
      "158/158 [==============================] - ETA: 0s - loss: 0.6287 - acc: 0.656 - 0s 349us/sample - loss: 0.6363 - acc: 0.6709 - val_loss: 0.8353 - val_acc: 0.3000\n",
      "Epoch 4/20\n",
      "158/158 [==============================] - ETA: 0s - loss: 0.6168 - acc: 0.718 - 0s 373us/sample - loss: 0.6148 - acc: 0.6899 - val_loss: 0.8614 - val_acc: 0.3000\n",
      "Epoch 5/20\n",
      "158/158 [==============================] - ETA: 0s - loss: 0.6140 - acc: 0.718 - 0s 352us/sample - loss: 0.5974 - acc: 0.7215 - val_loss: 0.8382 - val_acc: 0.3000\n",
      "Epoch 6/20\n",
      "158/158 [==============================] - ETA: 0s - loss: 0.5558 - acc: 0.750 - 0s 355us/sample - loss: 0.5752 - acc: 0.7215 - val_loss: 0.8647 - val_acc: 0.3000\n",
      "Epoch 7/20\n",
      "158/158 [==============================] - ETA: 0s - loss: 0.6320 - acc: 0.625 - 0s 353us/sample - loss: 0.5547 - acc: 0.7595 - val_loss: 0.8423 - val_acc: 0.3000\n",
      "Epoch 8/20\n",
      "158/158 [==============================] - ETA: 0s - loss: 0.5154 - acc: 0.781 - 0s 357us/sample - loss: 0.5348 - acc: 0.7278 - val_loss: 0.8457 - val_acc: 0.3000\n",
      "Epoch 9/20\n",
      "158/158 [==============================] - ETA: 0s - loss: 0.4437 - acc: 0.812 - 0s 331us/sample - loss: 0.5132 - acc: 0.7215 - val_loss: 0.8090 - val_acc: 0.4000\n",
      "Epoch 10/20\n",
      "158/158 [==============================] - ETA: 0s - loss: 0.4245 - acc: 0.812 - 0s 358us/sample - loss: 0.4979 - acc: 0.7595 - val_loss: 0.7435 - val_acc: 0.5500\n",
      "Epoch 11/20\n",
      "158/158 [==============================] - ETA: 0s - loss: 0.4105 - acc: 0.843 - 0s 335us/sample - loss: 0.4736 - acc: 0.7658 - val_loss: 0.8611 - val_acc: 0.3000\n",
      "Epoch 12/20\n",
      "158/158 [==============================] - ETA: 0s - loss: 0.4407 - acc: 0.812 - 0s 353us/sample - loss: 0.4437 - acc: 0.7975 - val_loss: 0.7595 - val_acc: 0.5500\n",
      "Epoch 13/20\n",
      "158/158 [==============================] - ETA: 0s - loss: 0.3766 - acc: 0.937 - 0s 332us/sample - loss: 0.4084 - acc: 0.8861 - val_loss: 0.6676 - val_acc: 0.5500\n",
      "Epoch 14/20\n",
      "158/158 [==============================] - ETA: 0s - loss: 0.3717 - acc: 0.875 - 0s 358us/sample - loss: 0.3555 - acc: 0.8608 - val_loss: 0.5652 - val_acc: 0.5500\n",
      "Epoch 15/20\n",
      "158/158 [==============================] - ETA: 0s - loss: 0.3231 - acc: 0.906 - 0s 332us/sample - loss: 0.2736 - acc: 0.8861 - val_loss: 0.3057 - val_acc: 1.0000\n",
      "Epoch 16/20\n",
      "158/158 [==============================] - ETA: 0s - loss: 0.1846 - acc: 0.937 - 0s 362us/sample - loss: 0.2067 - acc: 0.9304 - val_loss: 0.2256 - val_acc: 1.0000\n",
      "Epoch 17/20\n",
      "158/158 [==============================] - ETA: 0s - loss: 0.1534 - acc: 0.937 - 0s 335us/sample - loss: 0.1307 - acc: 0.9810 - val_loss: 0.5055 - val_acc: 0.7000\n",
      "Epoch 18/20\n",
      "158/158 [==============================] - ETA: 0s - loss: 0.0803 - acc: 1.000 - 0s 388us/sample - loss: 0.0919 - acc: 1.0000 - val_loss: 0.1565 - val_acc: 1.0000\n",
      "Epoch 19/20\n",
      "158/158 [==============================] - ETA: 0s - loss: 0.0499 - acc: 1.000 - 0s 358us/sample - loss: 0.0541 - acc: 1.0000 - val_loss: 0.0645 - val_acc: 1.0000\n",
      "Epoch 20/20\n",
      "158/158 [==============================] - ETA: 0s - loss: 0.0642 - acc: 1.000 - 0s 401us/sample - loss: 0.0375 - acc: 1.0000 - val_loss: 0.0914 - val_acc: 1.0000\n"
     ]
    },
    {
     "data": {
      "text/plain": [
       "<tensorflow.python.keras.callbacks.History at 0x1cc8ff76e88>"
      ]
     },
     "execution_count": 8,
     "metadata": {},
     "output_type": "execute_result"
    }
   ],
   "source": [
    "# Train the GRU model\n",
    "gru_model.fit(padded_features, encoded_labels, epochs=20, batch_size=32, validation_split=0.2)"
   ]
  },
  {
   "cell_type": "code",
   "execution_count": 9,
   "metadata": {},
   "outputs": [
    {
     "name": "stdout",
     "output_type": "stream",
     "text": [
      "198/198 [==============================] - ETA: 0s - loss: 0.0589 - acc: 1.000 - 0s 104us/sample - loss: 0.0361 - acc: 1.0000\n",
      "GRU Model - Loss: 0.036077033709546534, Accuracy: 1.0\n"
     ]
    }
   ],
   "source": [
    "\n",
    "# Evaluate the GRU model\n",
    "gru_loss, gru_accuracy = gru_model.evaluate(padded_features, encoded_labels)\n",
    "print(f'GRU Model - Loss: {gru_loss}, Accuracy: {gru_accuracy}')\n",
    "\n",
    "# Save the GRU model\n",
    "# gru_model.save('gru_chroma_model.h5')"
   ]
  },
  {
   "cell_type": "code",
   "execution_count": 10,
   "metadata": {},
   "outputs": [],
   "source": [
    "# Generate predictions and plot confusion matrix for GRU model\n",
    "gru_y_pred = gru_model.predict(padded_features)\n",
    "gru_y_pred_classes = np.argmax(gru_y_pred, axis=1)\n",
    "gru_y_true_classes = np.argmax(encoded_labels, axis=1)\n"
   ]
  },
  {
   "cell_type": "code",
   "execution_count": 11,
   "metadata": {},
   "outputs": [
    {
     "data": {
      "image/png": "[encoded data removed]",
      "text/plain": [
       "<Figure size 432x288 with 2 Axes>"
      ]
     },
     "metadata": {
      "needs_background": "light"
     },
     "output_type": "display_data"
    }
   ],
   "source": [
    "gru_cm = confusion_matrix(gru_y_true_classes, gru_y_pred_classes)\n",
    "gru_disp = ConfusionMatrixDisplay(confusion_matrix=gru_cm, display_labels=label_encoder.classes_)\n",
    "gru_disp.plot(cmap=plt.cm.Blues)\n",
    "plt.title('GRU Model Confusion Matrix')\n",
    "plt.show()"
   ]
  },
  {
   "cell_type": "code",
   "execution_count": 12,
   "metadata": {},
   "outputs": [
    {
     "name": "stdout",
     "output_type": "stream",
     "text": [
      "GRU Model - Incorrectly predicted files:\n"
     ]
    }
   ],
   "source": [
    "# Print filenames of incorrectly predicted samples for GRU model\n",
    "gru_incorrect_indices = np.where(gru_y_pred_classes != gru_y_true_classes)[0]\n",
    "print(\"GRU Model - Incorrectly predicted files:\")\n",
    "for index in gru_incorrect_indices:\n",
    "    print(filenames[index])\n"
   ]
  },
  {
   "cell_type": "code",
   "execution_count": 13,
   "metadata": {},
   "outputs": [
    {
     "name": "stdout",
     "output_type": "stream",
     "text": [
      "WARNING:tensorflow:From C:\\Users\\Sachin\\anaconda3\\lib\\site-packages\\tensorflow_core\\python\\ops\\init_ops.py:97: calling GlorotUniform.__init__ (from tensorflow.python.ops.init_ops) with dtype is deprecated and will be removed in a future version.\n",
      "Instructions for updating:\n",
      "Call initializer instance with the dtype argument instead of passing it to the constructor\n",
      "WARNING:tensorflow:From C:\\Users\\Sachin\\anaconda3\\lib\\site-packages\\tensorflow_core\\python\\ops\\init_ops.py:97: calling Orthogonal.__init__ (from tensorflow.python.ops.init_ops) with dtype is deprecated and will be removed in a future version.\n",
      "Instructions for updating:\n",
      "Call initializer instance with the dtype argument instead of passing it to the constructor\n",
      "WARNING:tensorflow:From C:\\Users\\Sachin\\anaconda3\\lib\\site-packages\\tensorflow_core\\python\\ops\\init_ops.py:97: calling Zeros.__init__ (from tensorflow.python.ops.init_ops) with dtype is deprecated and will be removed in a future version.\n",
      "Instructions for updating:\n",
      "Call initializer instance with the dtype argument instead of passing it to the constructor\n"
     ]
    }
   ],
   "source": [
    "# Load the trained GRU model for prediction\n",
    "gru_model = load_model('gru_chroma_model.h5')\n",
    "\n",
    "def predict_gru(file_path):\n",
    "    # Extract chroma features\n",
    "    chroma_features = extract_chroma_features(file_path)\n",
    "    chroma_features = chroma_features[np.newaxis, ...]  # Add batch dimension\n",
    "\n",
    "    # Pad sequence to the same length\n",
    "    padded_features = pad_sequences(chroma_features, maxlen=max_sequence_length, dtype='float32', padding='post', truncating='post')\n",
    "\n",
    "    # Make prediction\n",
    "    prediction = gru_model.predict(padded_features)\n",
    "    predicted_class = np.argmax(prediction, axis=1)\n",
    "    predicted_label = label_encoder.inverse_transform(predicted_class)\n",
    "    \n",
    "    return predicted_label[0]"
   ]
  },
  {
   "cell_type": "code",
   "execution_count": 17,
   "metadata": {},
   "outputs": [
    {
     "name": "stdout",
     "output_type": "stream",
     "text": [
      "GRU Model - Predicted label for the test file: Ravi\n"
     ]
    }
   ],
   "source": [
    "# Test the GRU prediction function\n",
    "test_file_path = r\"C:\\Users\\Sachin\\Desktop\\ai_projects\\Alexa\\dataset_alexa\\Ravi\\Ravi_alexa (mp3cut.net) (4)_1.wav\"  # Replace with the path to your test WAV file\n",
    "predicted_label_gru = predict_gru(test_file_path)\n",
    "print(f'GRU Model - Predicted label for the test file: {predicted_label_gru}')\n"
   ]
  },
  {
   "cell_type": "code",
   "execution_count": null,
   "metadata": {},
   "outputs": [],
   "source": [
    "\n",
    "\n"
   ]
  }
 ],
 "metadata": {
  "kernelspec": {
   "display_name": "Python 3",
   "language": "python",
   "name": "python3"
  },
  "language_info": {
   "codemirror_mode": {
    "name": "ipython",
    "version": 3
   },
   "file_extension": ".py",
   "mimetype": "text/x-python",
   "name": "python",
   "nbconvert_exporter": "python",
   "pygments_lexer": "ipython3",
   "version": "3.7.6"
  }
 },
 "nbformat": 4,
 "nbformat_minor": 4
}
